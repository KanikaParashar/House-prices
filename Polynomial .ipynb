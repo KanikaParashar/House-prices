{
 "cells": [
  {
   "cell_type": "code",
   "execution_count": 35,
   "metadata": {},
   "outputs": [],
   "source": [
    "import numpy as np\n",
    "import pandas as pd\n",
    "import matplotlib.pyplot as plt \n",
    "from sklearn.model_selection import train_test_split"
   ]
  },
  {
   "cell_type": "code",
   "execution_count": 36,
   "metadata": {},
   "outputs": [
    {
     "data": {
      "text/plain": [
       "Index(['A', 'B', 'C'], dtype='object')"
      ]
     },
     "execution_count": 36,
     "metadata": {},
     "output_type": "execute_result"
    }
   ],
   "source": [
    "df = pd.read_excel(\"house_prices.xlsx\")\n",
    "df.columns\n"
   ]
  },
  {
   "cell_type": "code",
   "execution_count": 37,
   "metadata": {},
   "outputs": [],
   "source": [
    "x = df.loc[:,\"A\"]\n",
    "y = df[[\"C\"]]"
   ]
  },
  {
   "cell_type": "code",
   "execution_count": 38,
   "metadata": {},
   "outputs": [
    {
     "data": {
      "text/plain": [
       "1    1200\n",
       "4    2000\n",
       "8    2500\n",
       "6    2100\n",
       "3    1800\n",
       "0    1000\n",
       "5    2000\n",
       "Name: A, dtype: int64"
      ]
     },
     "execution_count": 38,
     "metadata": {},
     "output_type": "execute_result"
    }
   ],
   "source": [
    "xtrain,xtest,ytrain,ytest = train_test_split(x,y,test_size = 0.2,random_state = 0)\n",
    "xtrain"
   ]
  },
  {
   "cell_type": "code",
   "execution_count": 39,
   "metadata": {},
   "outputs": [
    {
     "name": "stdout",
     "output_type": "stream",
     "text": [
      "         C\n",
      "0  2000000\n",
      "1  2500000\n",
      "2  3000000\n",
      "3  4000000\n",
      "4  4000000\n",
      "5  3500000\n",
      "6  3400000\n",
      "7  4500000\n",
      "8  3800000\n"
     ]
    }
   ],
   "source": [
    "print(y)"
   ]
  },
  {
   "cell_type": "code",
   "execution_count": 42,
   "metadata": {},
   "outputs": [
    {
     "name": "stdout",
     "output_type": "stream",
     "text": [
      "[[1200]\n",
      " [2000]\n",
      " [2500]\n",
      " [2100]\n",
      " [1800]\n",
      " [1000]\n",
      " [2000]]\n"
     ]
    }
   ],
   "source": [
    "xtrain = np.array(xtrain).reshape(-1,1)\n",
    "print(xtrain)\n",
    "ytrain = np.array(ytrain).reshape(-1,1)"
   ]
  },
  {
   "cell_type": "code",
   "execution_count": 44,
   "metadata": {},
   "outputs": [
    {
     "name": "stdout",
     "output_type": "stream",
     "text": [
      "[[1.0000e+00 1.2000e+03 1.4400e+06 1.7280e+09]\n",
      " [1.0000e+00 2.0000e+03 4.0000e+06 8.0000e+09]\n",
      " [1.0000e+00 2.5000e+03 6.2500e+06 1.5625e+10]\n",
      " [1.0000e+00 2.1000e+03 4.4100e+06 9.2610e+09]\n",
      " [1.0000e+00 1.8000e+03 3.2400e+06 5.8320e+09]\n",
      " [1.0000e+00 1.0000e+03 1.0000e+06 1.0000e+09]\n",
      " [1.0000e+00 2.0000e+03 4.0000e+06 8.0000e+09]]\n",
      "[[2727394.60025991]\n",
      " [3721307.37969597]\n",
      " [3738794.49690594]\n",
      " [3712212.80663756]\n",
      " [3700350.69295842]\n",
      " [1878632.64384622]\n",
      " [3721307.37969597]]\n"
     ]
    }
   ],
   "source": [
    "from sklearn.preprocessing import PolynomialFeatures\n",
    "from sklearn.linear_model import LinearRegression\n",
    "poly_trans = PolynomialFeatures(degree = 3)\n",
    "x_poly = poly_trans.fit_transform(xtrain)\n",
    "print(x_poly)\n",
    "polyr_model = LinearRegression()\n",
    "polyr_model.fit(x_poly,ytrain)\n",
    "ypr_poly = polyr_model.predict(x_poly)\n",
    "print(ypr_poly)"
   ]
  },
  {
   "cell_type": "code",
   "execution_count": 49,
   "metadata": {},
   "outputs": [
    {
     "data": {
      "text/plain": [
       "[<matplotlib.lines.Line2D at 0x2f4af086b50>,\n",
       " <matplotlib.lines.Line2D at 0x2f4af086b80>,\n",
       " <matplotlib.lines.Line2D at 0x2f4af086ca0>,\n",
       " <matplotlib.lines.Line2D at 0x2f4af086dc0>]"
      ]
     },
     "execution_count": 49,
     "metadata": {},
     "output_type": "execute_result"
    },
    {
     "data": {
      "image/png": "[encoded data removed]",
      "text/plain": [
       "<Figure size 432x288 with 1 Axes>"
      ]
     },
     "metadata": {
      "needs_background": "light"
     },
     "output_type": "display_data"
    }
   ],
   "source": [
    "plt.scatter(xtrain ,ytrain,color = \"green\")\n",
    "plt.plot(xtrain,poly_trans.fit_transform(xtrain),color='red')\n"
   ]
  },
  {
   "cell_type": "code",
   "execution_count": null,
   "metadata": {},
   "outputs": [],
   "source": []
  },
  {
   "cell_type": "code",
   "execution_count": null,
   "metadata": {},
   "outputs": [],
   "source": []
  }
 ],
 "metadata": {
  "kernelspec": {
   "display_name": "Python 3",
   "language": "python",
   "name": "python3"
  },
  "language_info": {
   "codemirror_mode": {
    "name": "ipython",
    "version": 3
   },
   "file_extension": ".py",
   "mimetype": "text/x-python",
   "name": "python",
   "nbconvert_exporter": "python",
   "pygments_lexer": "ipython3",
   "version": "3.8.2"
  }
 },
 "nbformat": 4,
 "nbformat_minor": 4
}
